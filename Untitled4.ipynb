{
 "cells": [
  {
   "cell_type": "code",
   "execution_count": 1,
   "metadata": {},
   "outputs": [
    {
     "name": "stdout",
     "output_type": "stream",
     "text": [
      "{65: 84, 84: 65, 71: 67, 67: 71}\n"
     ]
    }
   ],
   "source": [
    "#remembering what we learned last week\n",
    "\n",
    "#challegne 1 (in class)\n",
    "#create a list with three sequences of nucleotides\n",
    "#for each element in the list, use a loop to:\n",
    "#(1) print out the nucleotide sequence.\n",
    "#(2) print the complement of each sequence\n",
    "#A with T, T with A, C with G and G with C.\n",
    "\n",
    "#A:T, G:C, C:G, T:A.\n",
    "\n",
    "dict = str.maketrans('ATGC','TACG')\n",
    "print(dict)\n"
   ]
  },
  {
   "cell_type": "code",
   "execution_count": 2,
   "metadata": {},
   "outputs": [
    {
     "name": "stdout",
     "output_type": "stream",
     "text": [
      "TTTAGCT\n"
     ]
    }
   ],
   "source": [
    "#translate this value\n",
    "value = 'AAATCGA'\n",
    "result = value.translate(dict)\n",
    "print(result)\n"
   ]
  },
  {
   "cell_type": "code",
   "execution_count": 3,
   "metadata": {},
   "outputs": [],
   "source": [
    "#splitting a string to make a list\n",
    "genelist = 'APC, BRCA1,TP53, CTNNB1'\n",
    "gene_separated = genelist.split(',')\n",
    "gene1,gene2,gene3,genes= genelist.split(',')"
   ]
  },
  {
   "cell_type": "code",
   "execution_count": 5,
   "metadata": {},
   "outputs": [
    {
     "data": {
      "text/plain": [
       "'TP53'"
      ]
     },
     "execution_count": 5,
     "metadata": {},
     "output_type": "execute_result"
    }
   ],
   "source": [
    "### challenge "
   ]
  },
  {
   "cell_type": "code",
   "execution_count": 13,
   "metadata": {},
   "outputs": [
    {
     "name": "stdout",
     "output_type": "stream",
     "text": [
      "restriction site found:\n",
      "GGACC\n"
     ]
    }
   ],
   "source": [
    "# we can use the group function to store the result of the regular expression\n",
    "import re\n",
    "dna = 'GGACCATCGGGTCCAC'\n",
    "match = re.search(r'GGACC', dna) or re.search(r'GGTCC',dna)\n",
    "\n",
    "if match:\n",
    "    print('restriction site found:')\n",
    "    matching_sequence = match.group()\n",
    "    print(matching_sequence)"
   ]
  },
  {
   "cell_type": "code",
   "execution_count": 14,
   "metadata": {},
   "outputs": [
    {
     "name": "stdout",
     "output_type": "stream",
     "text": [
      "genus is Homo, species is sapiens\n"
     ]
    }
   ],
   "source": [
    "# WHAT IF WE WANT TOT FIND MULTIPLE PATTERNS?\n",
    "\n",
    "# using a period in a reuglar expression = any character\n",
    "\n",
    "scientific_name = 'Homo sapiens'\n",
    "match= re.search('(.+) (.+)', scientific_name)\n",
    "\n",
    "if match:\n",
    "    genus = match.group(1)\n",
    "    species = match.group(2)\n",
    "    print('genus is ' + genus + ', species is '+ species)"
   ]
  },
  {
   "cell_type": "code",
   "execution_count": 19,
   "metadata": {},
   "outputs": [
    {
     "name": "stdout",
     "output_type": "stream",
     "text": [
      "restriction enzyme site found!\n",
      "at postion 9 to 14\n"
     ]
    }
   ],
   "source": [
    "# getting match positions \n",
    "\n",
    "dna = 'GGACCATCGGGTCCAC'\n",
    "m = re.search(r'GGTCC', dna)\n",
    "\n",
    "if m:\n",
    "    print('restriction enzyme site found!')\n",
    "    print('at postion ' + str(m.start()) + ' to '+str(m.end()))\n",
    "    \n",
    "    # how do you think you find the end"
   ]
  },
  {
   "cell_type": "code",
   "execution_count": 25,
   "metadata": {},
   "outputs": [
    {
     "name": "stdout",
     "output_type": "stream",
     "text": [
      "restriction enzyme site found!\n",
      "at postion 0\n",
      "restriction enzyme site found!\n",
      "at postion 9\n"
     ]
    }
   ],
   "source": [
    "# getting match positions \n",
    "\n",
    "dna = 'GGACCATCGGGACCAC'\n",
    "matches = re.finditer(r'GGACC', dna)\n",
    "\n",
    "for m in matches:\n",
    "    print('restriction enzyme site found!')\n",
    "    print('at postion ' + str(m.start()))"
   ]
  },
  {
   "cell_type": "code",
   "execution_count": 27,
   "metadata": {},
   "outputs": [
    {
     "name": "stdout",
     "output_type": "stream",
     "text": [
      "['ATTATAT', 'AAATTATA']\n"
     ]
    }
   ],
   "source": [
    "# getting multiple matches as strings\n",
    "\n",
    "dna = 'ACTGCATTATATCGTACGAAATTATACGCGCG'\n",
    "\n",
    "matches = re.finditer(r'[AT]{6,}', dna)\n",
    "\n",
    "result = []\n",
    "for m in matches:\n",
    "    result.append(m.group())\n",
    "    \n",
    "print(result)"
   ]
  },
  {
   "cell_type": "code",
   "execution_count": 28,
   "metadata": {},
   "outputs": [
    {
     "name": "stdout",
     "output_type": "stream",
     "text": [
      "['ATTATAT', 'AAATTATA']\n"
     ]
    }
   ],
   "source": [
    "dna = 'ACTGCATTATATCGTACGAAATTATACGCGCG'\n",
    "result = re.findall(r'[AT]{6,}', dna)\n",
    "print(result)"
   ]
  },
  {
   "cell_type": "code",
   "execution_count": 29,
   "metadata": {},
   "outputs": [
    {
     "name": "stdout",
     "output_type": "stream",
     "text": [
      "['', 'ATCG', 'AC']\n"
     ]
    }
   ],
   "source": [
    "#splitting a string using a regular expression\n",
    "#use the split function , the first argument is the pattern and second arguement is the string\n",
    "#notice the bits of string that matched the pattern are excluded from the output. \n",
    "#what if we want to\n",
    "# add it back?\n",
    "\n",
    "dna = 'GGACCATCGGGACCAC'\n",
    "runs = re.split(r'GGACC', dna)\n",
    "print(runs)"
   ]
  },
  {
   "cell_type": "code",
   "execution_count": null,
   "metadata": {},
   "outputs": [],
   "source": []
  }
 ],
 "metadata": {
  "kernelspec": {
   "display_name": "Python 3",
   "language": "python",
   "name": "python3"
  },
  "language_info": {
   "codemirror_mode": {
    "name": "ipython",
    "version": 3
   },
   "file_extension": ".py",
   "mimetype": "text/x-python",
   "name": "python",
   "nbconvert_exporter": "python",
   "pygments_lexer": "ipython3",
   "version": "3.6.3"
  }
 },
 "nbformat": 4,
 "nbformat_minor": 2
}
